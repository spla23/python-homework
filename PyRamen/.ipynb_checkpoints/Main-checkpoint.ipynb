{
 "cells": [
  {
   "cell_type": "code",
   "execution_count": 16,
   "metadata": {},
   "outputs": [],
   "source": [
    "## PyRamen (Optional)\n",
    "#Melanie Splatt"
   ]
  },
  {
   "cell_type": "code",
   "execution_count": 78,
   "metadata": {},
   "outputs": [],
   "source": [
    "#import libraries\n",
    "from pathlib import Path\n",
    "import csv\n",
    "\n",
    "#set file locations\n",
    "menu_filepath = Path('menu_data.csv')\n",
    "sales_filepath = Path('sales_data.csv')"
   ]
  },
  {
   "cell_type": "code",
   "execution_count": 79,
   "metadata": {},
   "outputs": [],
   "source": [
    "#Initialize list objects to hold menu and sales data\n",
    "menu = []\n",
    "sales = []"
   ]
  },
  {
   "cell_type": "code",
   "execution_count": 80,
   "metadata": {},
   "outputs": [
    {
     "name": "stdout",
     "output_type": "stream",
     "text": [
      "['item', 'category', 'description', 'price', 'cost']\n"
     ]
    }
   ],
   "source": [
    "#Read in `menu_data.csv` and set its contents into list\n",
    "with open(menu_filepath,'r') as menu_file:\n",
    "    menu_reader = csv.reader(menu_file)\n",
    "    menu_header = next(menu_reader)\n",
    "    print(menu_header)\n",
    "#Loop over the rest of the rows and append every row to the `menu` list object\n",
    "    for line in menu_reader:\n",
    "        menu.append(line)"
   ]
  },
  {
   "cell_type": "code",
   "execution_count": 81,
   "metadata": {},
   "outputs": [
    {
     "name": "stdout",
     "output_type": "stream",
     "text": [
      "['Line_Item_ID', 'Date', 'Credit_Card_Number', 'Quantity', 'Menu_Item']\n"
     ]
    }
   ],
   "source": [
    "#Set up the same process to read in `sales_data.csv`and append every row of the sales data to a new `sales` list object.\n",
    "with open(sales_filepath,'r') as sales_file:\n",
    "    sales_reader = csv.reader(sales_file)\n",
    "    sales_header = next(sales_reader)\n",
    "    print(sales_header)\n",
    "#Loop over the rest of the rows and append every row to the `menu` list object\n",
    "    for line in sales_reader:\n",
    "        sales.append(line)"
   ]
  },
  {
   "cell_type": "code",
   "execution_count": 86,
   "metadata": {},
   "outputs": [],
   "source": [
    "#Initialize an empty `report` dictionary to hold the future aggregated per-product results.\n",
    "report = {}\n",
    "#Initialize row count\n",
    "row_count_sales = 0\n",
    "row_count_menu = 0"
   ]
  },
  {
   "cell_type": "code",
   "execution_count": 87,
   "metadata": {},
   "outputs": [],
   "source": [
    "# Loop over every row in the sales list object and build report\n",
    "for x in sales:\n",
    "    report[x[4]] = {\"01-count\":0, \"02-revenue\":0, \"03-cogs\":0, \"04-profit\":0}"
   ]
  },
  {
   "cell_type": "code",
   "execution_count": 91,
   "metadata": {},
   "outputs": [],
   "source": [
    "#`01-count`: the total quantity for each ramen type\n",
    "for y in menu:\n",
    "    row_count_menu += 1 \n",
    "    for x in sales:\n",
    "        row_count_sales += 1\n",
    "        if y[0] in x:\n",
    "            report[x[4]][\"01-count\"] += int(x[3])\n",
    "#`02-revenue`: the total revenue for each ramen type\n",
    "        if y[0] in x:\n",
    "            report[x[4]][\"02-revenue\"] += int(x[3])\n",
    "#`03-cogs`: the total cost of goods sold for each ramen type\n",
    "        if y[0] in x:\n",
    "            report[x[4]][\"03-cogs\"] += int(x[3])\n",
    "#`04-profit`: the total profit for each ramen type\n",
    "        if y[0] in x:\n",
    "            report[x[4]][\"04-profit\"] += int(x[3])"
   ]
  },
  {
   "cell_type": "code",
   "execution_count": null,
   "metadata": {},
   "outputs": [],
   "source": []
  }
 ],
 "metadata": {
  "kernelspec": {
   "display_name": "Python 3",
   "language": "python",
   "name": "python3"
  },
  "language_info": {
   "codemirror_mode": {
    "name": "ipython",
    "version": 3
   },
   "file_extension": ".py",
   "mimetype": "text/x-python",
   "name": "python",
   "nbconvert_exporter": "python",
   "pygments_lexer": "ipython3",
   "version": "3.8.5"
  }
 },
 "nbformat": 4,
 "nbformat_minor": 4
}
